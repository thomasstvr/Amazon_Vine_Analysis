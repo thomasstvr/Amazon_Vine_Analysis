{
  "nbformat": 4,
  "nbformat_minor": 0,
  "metadata": {
    "colab": {
      "name": "Vine_Review_Analysis.ipynb",
      "provenance": []
    },
    "kernelspec": {
      "name": "python3",
      "display_name": "Python 3"
    },
    "language_info": {
      "name": "python"
    }
  },
  "cells": [
    {
      "cell_type": "code",
      "metadata": {
        "colab": {
          "base_uri": "https://localhost:8080/"
        },
        "id": "BqCTXyj_0PzZ",
        "outputId": "476b4433-0cb8-4e21-f399-b2abb23d0e9b"
      },
      "source": [
        "import os\n",
        "# Find the latest version of spark 2.0  from http://www-us.apache.org/dist/spark/ and enter as the spark version\n",
        "# For example:\n",
        "# spark_version = 'spark-3.0.0'\n",
        "spark_version = 'spark-3.0.2'\n",
        "os.environ['SPARK_VERSION']=spark_version\n",
        "\n",
        "# Install Spark and Java\n",
        "!apt-get update\n",
        "!apt-get install openjdk-11-jdk-headless -qq > /dev/null\n",
        "!wget -q http://www-us.apache.org/dist/spark/$SPARK_VERSION/$SPARK_VERSION-bin-hadoop2.7.tgz\n",
        "!tar xf $SPARK_VERSION-bin-hadoop2.7.tgz\n",
        "!pip install -q findspark\n",
        "\n",
        "# Set Environment Variables\n",
        "import os\n",
        "os.environ[\"JAVA_HOME\"] = \"/usr/lib/jvm/java-11-openjdk-amd64\"\n",
        "os.environ[\"SPARK_HOME\"] = f\"/content/{spark_version}-bin-hadoop2.7\"\n",
        "\n",
        "# Start a SparkSession\n",
        "import findspark\n",
        "findspark.init()\n",
        "\n",
        "import pandas as pd"
      ],
      "execution_count": 14,
      "outputs": [
        {
          "output_type": "stream",
          "text": [
            "\r0% [Working]\r            \rIgn:1 https://developer.download.nvidia.com/compute/cuda/repos/ubuntu1804/x86_64  InRelease\n",
            "\r0% [Connecting to archive.ubuntu.com] [Connecting to security.ubuntu.com] [Wait\r                                                                               \rHit:2 https://cloud.r-project.org/bin/linux/ubuntu bionic-cran40/ InRelease\n",
            "\r0% [Connecting to archive.ubuntu.com] [Connecting to security.ubuntu.com] [Conn\r                                                                               \rIgn:3 https://developer.download.nvidia.com/compute/machine-learning/repos/ubuntu1804/x86_64  InRelease\n",
            "\r0% [Connecting to archive.ubuntu.com] [Connecting to security.ubuntu.com] [Conn\r0% [2 InRelease gpgv 3,626 B] [Connecting to archive.ubuntu.com] [Connecting to\r                                                                               \rHit:4 https://developer.download.nvidia.com/compute/cuda/repos/ubuntu1804/x86_64  Release\n",
            "\r0% [2 InRelease gpgv 3,626 B] [Connecting to archive.ubuntu.com] [Connecting to\r                                                                               \rHit:5 https://developer.download.nvidia.com/compute/machine-learning/repos/ubuntu1804/x86_64  Release\n",
            "\r0% [2 InRelease gpgv 3,626 B] [Connecting to archive.ubuntu.com] [Connecting to\r0% [Connecting to archive.ubuntu.com (91.189.88.152)] [Waiting for headers] [Wa\r0% [Release.gpg gpgv 697 B] [Connecting to archive.ubuntu.com (91.189.88.152)] \r                                                                               \rGet:6 http://ppa.launchpad.net/c2d4u.team/c2d4u4.0+/ubuntu bionic InRelease [15.9 kB]\n",
            "Hit:7 http://security.ubuntu.com/ubuntu bionic-security InRelease\n",
            "Hit:8 http://archive.ubuntu.com/ubuntu bionic InRelease\n",
            "Get:10 http://archive.ubuntu.com/ubuntu bionic-updates InRelease [88.7 kB]\n",
            "Hit:12 http://ppa.launchpad.net/cran/libgit2/ubuntu bionic InRelease\n",
            "Hit:13 http://ppa.launchpad.net/deadsnakes/ppa/ubuntu bionic InRelease\n",
            "Get:14 http://archive.ubuntu.com/ubuntu bionic-backports InRelease [74.6 kB]\n",
            "Hit:15 http://ppa.launchpad.net/graphics-drivers/ppa/ubuntu bionic InRelease\n",
            "Get:16 http://ppa.launchpad.net/c2d4u.team/c2d4u4.0+/ubuntu bionic/main amd64 Packages [899 kB]\n",
            "Get:17 http://archive.ubuntu.com/ubuntu bionic-updates/universe amd64 Packages [2,182 kB]\n",
            "Fetched 3,260 kB in 3s (1,271 kB/s)\n",
            "Reading package lists... Done\n"
          ],
          "name": "stdout"
        }
      ]
    },
    {
      "cell_type": "code",
      "metadata": {
        "colab": {
          "base_uri": "https://localhost:8080/"
        },
        "id": "U-SFuBAZ0bZb",
        "outputId": "222375f3-73f0-4214-84fe-52b454ffb069"
      },
      "source": [
        "# Download the Postgres driver that will allow Spark to interact with Postgres.\n",
        "!wget https://jdbc.postgresql.org/download/postgresql-42.2.16.jar"
      ],
      "execution_count": 2,
      "outputs": [
        {
          "output_type": "stream",
          "text": [
            "--2021-04-21 19:06:17--  https://jdbc.postgresql.org/download/postgresql-42.2.16.jar\n",
            "Resolving jdbc.postgresql.org (jdbc.postgresql.org)... 72.32.157.228, 2001:4800:3e1:1::228\n",
            "Connecting to jdbc.postgresql.org (jdbc.postgresql.org)|72.32.157.228|:443... connected.\n",
            "HTTP request sent, awaiting response... 200 OK\n",
            "Length: 1002883 (979K) [application/java-archive]\n",
            "Saving to: ‘postgresql-42.2.16.jar’\n",
            "\n",
            "postgresql-42.2.16. 100%[===================>] 979.38K  6.01MB/s    in 0.2s    \n",
            "\n",
            "2021-04-21 19:06:17 (6.01 MB/s) - ‘postgresql-42.2.16.jar’ saved [1002883/1002883]\n",
            "\n"
          ],
          "name": "stdout"
        }
      ]
    },
    {
      "cell_type": "code",
      "metadata": {
        "id": "PNRfP3Up03Y0"
      },
      "source": [
        "from pyspark.sql import SparkSession\n",
        "spark = SparkSession.builder.appName(\"BigData-Challenge\").config(\"spark.driver.extraClassPath\",\"/content/postgresql-42.2.16.jar\").getOrCreate()"
      ],
      "execution_count": 3,
      "outputs": []
    },
    {
      "cell_type": "code",
      "metadata": {
        "colab": {
          "base_uri": "https://localhost:8080/"
        },
        "id": "5OUUFBps07NU",
        "outputId": "02a5318d-a668-4cf5-b0a5-57302757ea75"
      },
      "source": [
        "from pyspark import SparkFiles\n",
        "url = \"https://s3.amazonaws.com/amazon-reviews-pds/tsv/amazon_reviews_us_Automotive_v1_00.tsv.gz\"\n",
        "spark.sparkContext.addFile(url)\n",
        "df = spark.read.option(\"encoding\", \"UTF-8\").csv(SparkFiles.get(\"amazon_reviews_us_Automotive_v1_00.tsv.gz\"), sep=\"\\t\", header=True, inferSchema=True)\n",
        "df.show()"
      ],
      "execution_count": 4,
      "outputs": [
        {
          "output_type": "stream",
          "text": [
            "+-----------+-----------+--------------+----------+--------------+--------------------+----------------+-----------+-------------+-----------+----+-----------------+--------------------+--------------------+-----------+\n",
            "|marketplace|customer_id|     review_id|product_id|product_parent|       product_title|product_category|star_rating|helpful_votes|total_votes|vine|verified_purchase|     review_headline|         review_body|review_date|\n",
            "+-----------+-----------+--------------+----------+--------------+--------------------+----------------+-----------+-------------+-----------+----+-----------------+--------------------+--------------------+-----------+\n",
            "|         US|   36075342| RAB23OVFNCXZQ|B00LPRXQ4Y|     339193102|17\" 2003-2006 For...|      Automotive|          1|            0|          0|   N|                Y|     As it was used,|As it was used, t...| 2015-08-31|\n",
            "|         US|   42462164|R3NORADVJO6IE6|B000C7S0TO|     907684644|Spectra Premium C...|      Automotive|          5|            0|          0|   N|                Y|          Five Stars|Put it in fine, n...| 2015-08-31|\n",
            "|         US|   21241933|R299F4SO98S5OO|B000CO9WE4|     752246352|K&N E-4665 High P...|      Automotive|          5|            1|          1|   N|                Y|Great fit and per...|Fit wonderfully o...| 2015-08-31|\n",
            "|         US|   52570308|R2DA9DOT03UW6I|B000GKD5NI|     105401756|Suncutters Rear W...|      Automotive|          5|            2|          3|   N|                Y|Good for the pric...|Good for the pric...| 2015-08-31|\n",
            "|         US|   38200102|R2OGCH681EQHU6|B009SDA7TE|     728471129|Lug Nuts Landcrui...|      Automotive|          5|            0|          0|   N|                Y|          Five Stars|Fit perfectly on ...| 2015-08-31|\n",
            "|         US|   34866169| R2JMKIC16MHD7|B00KV15KRG|     962286893|Fits 2007-2009 Ho...|      Automotive|          5|            2|          2|   N|                Y|Fit Well and Bett...|Product fits well...| 2015-08-31|\n",
            "|         US|     184627|R1DB5DA7CWWTI8|B0002JMAKW|     267002949|Castrol 12614 Dot...|      Automotive|          5|            0|          0|   N|                Y|convenient, fast ...|convenient ,fast ...| 2015-08-31|\n",
            "|         US|    2975964|R1N8XWFDK4QACP|B00XJKMM6S|     570789093|New Power Window ...|      Automotive|          5|            0|          0|   N|                Y|          Five Stars|             is good| 2015-08-31|\n",
            "|         US|   40946484|R19VFLX6MRU0CX|B000C5CEKC|     389524802|Motorad MGC-791 L...|      Automotive|          5|            0|          0|   N|                Y|GOOD deal.  Great...|wonderful.  if yo...| 2015-08-31|\n",
            "|         US|   12554469| RLTD8YDGTP9PT|B00GD9R2A8|      21425394|Genuine Ford AL3Z...|      Automotive|          1|            0|          0|   N|                Y|Does not fit my F...|Does not work wit...| 2015-08-31|\n",
            "|         US|   35335277| R78B5LCFJ52SR|B00RM327NG|     816815445|Air Vent Smartpho...|      Automotive|          4|            0|          0|   N|                Y|            Not bad!|I really loved th...| 2015-08-31|\n",
            "|         US|   44957003|R33SKWL0HEQIQ9|B0071NL7UQ|     192225755|FDJ New Replaceme...|      Automotive|          5|            0|          0|   N|                Y|          Five Stars| Just what I wanted.| 2015-08-31|\n",
            "|         US|     444125|R1HIOV0UX7P13D|B00DSOL0FY|     849414056|Omix-Ada 17402.09...|      Automotive|          5|            0|          0|   N|                Y|          Five Stars|Great product and...| 2015-08-31|\n",
            "|         US|   35829199| R4WS0E0MSP9DH|B00GRV48TK|     651316983|GMB 530-2480 Fuel...|      Automotive|          5|            2|          2|   N|                Y|           Well made|Appears to be wel...| 2015-08-31|\n",
            "|         US|   16825098| R2RUIDUMDKG7P|B000E4PCGE|     694793259|00-03 NISSAN SENT...|      Automotive|          3|            0|          0|   N|                Y|new and a great l...|Product was as de...| 2015-08-31|\n",
            "|         US|    2583392| RZSA6L4M4D4XA|B005Z8HAUK|     732072782|Slime 40026 2X He...|      Automotive|          5|            0|          0|   N|                Y|          Five Stars|SO much quieter t...| 2015-08-31|\n",
            "|         US|   10127903|R1O3NGQNCFXKR6|B0043AV4NK|     533179941|MegaBrand N1 4\" B...|      Automotive|          5|            0|          0|   N|                Y|              decent|Great for the pri...| 2015-08-31|\n",
            "|         US|   17937309|R2IEM66RCBJ95A|B00CDHD76C|     126169507|Jackly 45-in-One ...|      Automotive|          5|            0|          0|   N|                Y|Nice set of tools...|Nice set of tools...| 2015-08-31|\n",
            "|         US|   17145638|R2BQ9O517KSCP8|B000CF1XO0|     475232737|Bosch 3397118942 ...|      Automotive|          5|            0|          0|   N|                N|          Five Stars|       Everything ok| 2015-08-31|\n",
            "|         US|   32813839|R1KF86427VR7AC|B003VLBPJA|     897802619|Heavy-Duty 15\" Ca...|      Automotive|          3|            0|          0|   N|                Y|         Three Stars|I hope the hooks ...| 2015-08-31|\n",
            "+-----------+-----------+--------------+----------+--------------+--------------------+----------------+-----------+-------------+-----------+----+-----------------+--------------------+--------------------+-----------+\n",
            "only showing top 20 rows\n",
            "\n"
          ],
          "name": "stdout"
        }
      ]
    },
    {
      "cell_type": "code",
      "metadata": {
        "colab": {
          "base_uri": "https://localhost:8080/"
        },
        "id": "fA2L2PaW0-wM",
        "outputId": "ae4facb7-8e1a-4d59-ef42-9b2b71417e8e"
      },
      "source": [
        "# Create the vine_table. DataFrame\n",
        "vine_df = df.select(['review_id', 'star_rating', 'helpful_votes', 'total_votes', 'vine', 'verified_purchase'])\n",
        "vine_df.show()"
      ],
      "execution_count": 5,
      "outputs": [
        {
          "output_type": "stream",
          "text": [
            "+--------------+-----------+-------------+-----------+----+-----------------+\n",
            "|     review_id|star_rating|helpful_votes|total_votes|vine|verified_purchase|\n",
            "+--------------+-----------+-------------+-----------+----+-----------------+\n",
            "| RAB23OVFNCXZQ|          1|            0|          0|   N|                Y|\n",
            "|R3NORADVJO6IE6|          5|            0|          0|   N|                Y|\n",
            "|R299F4SO98S5OO|          5|            1|          1|   N|                Y|\n",
            "|R2DA9DOT03UW6I|          5|            2|          3|   N|                Y|\n",
            "|R2OGCH681EQHU6|          5|            0|          0|   N|                Y|\n",
            "| R2JMKIC16MHD7|          5|            2|          2|   N|                Y|\n",
            "|R1DB5DA7CWWTI8|          5|            0|          0|   N|                Y|\n",
            "|R1N8XWFDK4QACP|          5|            0|          0|   N|                Y|\n",
            "|R19VFLX6MRU0CX|          5|            0|          0|   N|                Y|\n",
            "| RLTD8YDGTP9PT|          1|            0|          0|   N|                Y|\n",
            "| R78B5LCFJ52SR|          4|            0|          0|   N|                Y|\n",
            "|R33SKWL0HEQIQ9|          5|            0|          0|   N|                Y|\n",
            "|R1HIOV0UX7P13D|          5|            0|          0|   N|                Y|\n",
            "| R4WS0E0MSP9DH|          5|            2|          2|   N|                Y|\n",
            "| R2RUIDUMDKG7P|          3|            0|          0|   N|                Y|\n",
            "| RZSA6L4M4D4XA|          5|            0|          0|   N|                Y|\n",
            "|R1O3NGQNCFXKR6|          5|            0|          0|   N|                Y|\n",
            "|R2IEM66RCBJ95A|          5|            0|          0|   N|                Y|\n",
            "|R2BQ9O517KSCP8|          5|            0|          0|   N|                N|\n",
            "|R1KF86427VR7AC|          3|            0|          0|   N|                Y|\n",
            "+--------------+-----------+-------------+-----------+----+-----------------+\n",
            "only showing top 20 rows\n",
            "\n"
          ],
          "name": "stdout"
        }
      ]
    },
    {
      "cell_type": "code",
      "metadata": {
        "colab": {
          "base_uri": "https://localhost:8080/"
        },
        "id": "MU1sY-n_1Q-D",
        "outputId": "e6300182-1e24-4a87-cd4b-022bd072e61b"
      },
      "source": [
        "# Filter the data and create a new DataFrame where total_votes is greater than 20\n",
        "vine_df_20 = vine_df.filter('total_votes > 20')\n",
        "vine_df_20.show()"
      ],
      "execution_count": 7,
      "outputs": [
        {
          "output_type": "stream",
          "text": [
            "+--------------+-----------+-------------+-----------+----+-----------------+\n",
            "|     review_id|star_rating|helpful_votes|total_votes|vine|verified_purchase|\n",
            "+--------------+-----------+-------------+-----------+----+-----------------+\n",
            "|R1T4FVSABO0IDP|          5|            8|         31|   N|                Y|\n",
            "|R397VXR1GAK6C9|          5|           21|         21|   N|                Y|\n",
            "|R2H6KB9RHS17GA|          3|           59|         69|   N|                Y|\n",
            "|R3HAK0MUN9F5IT|          1|            6|         28|   N|                Y|\n",
            "|R29UTZTOPUVRSV|          5|           21|         21|   N|                Y|\n",
            "| RY9FLUD8VG6XD|          4|           27|         32|   N|                Y|\n",
            "|R3Q5NAY8BGAKHI|          5|           34|         40|   N|                Y|\n",
            "| RRVJ7TYDEK7EO|          5|           30|         30|   N|                Y|\n",
            "|R1JNALJ77OULPH|          4|           57|         65|   N|                Y|\n",
            "|R2V9VX4YQ8TQ24|          5|           33|         36|   N|                Y|\n",
            "|R2UCJ0GANHZVA8|          5|           21|         21|   N|                Y|\n",
            "| R8MJZ3925MBK0|          5|           96|         98|   N|                Y|\n",
            "|R378YNR0LMM3DP|          2|           41|         47|   N|                Y|\n",
            "|R2UIEYEJPJC9EM|          5|           64|         70|   N|                N|\n",
            "| RX2K8ERZ5BENR|          5|           52|         56|   N|                Y|\n",
            "|R34VOML4JURU4E|          1|           34|         35|   N|                Y|\n",
            "|R21FPJN76XM6J8|          3|           43|         52|   N|                Y|\n",
            "|R1YMR7QJ7OR3DE|          1|           21|         22|   N|                Y|\n",
            "|R27LWEYQI4WQB1|          5|            8|         29|   N|                Y|\n",
            "|R104OMNNT1A7HJ|          5|           20|         24|   N|                Y|\n",
            "+--------------+-----------+-------------+-----------+----+-----------------+\n",
            "only showing top 20 rows\n",
            "\n"
          ],
          "name": "stdout"
        }
      ]
    },
    {
      "cell_type": "code",
      "metadata": {
        "colab": {
          "base_uri": "https://localhost:8080/"
        },
        "id": "Xbf0Wx4X1Ul7",
        "outputId": "3732d204-d9ec-4162-a137-6e25ff6f3bb9"
      },
      "source": [
        "vine_df_20.printSchema()"
      ],
      "execution_count": 16,
      "outputs": [
        {
          "output_type": "stream",
          "text": [
            "root\n",
            " |-- review_id: string (nullable = true)\n",
            " |-- star_rating: integer (nullable = true)\n",
            " |-- helpful_votes: integer (nullable = true)\n",
            " |-- total_votes: integer (nullable = true)\n",
            " |-- vine: string (nullable = true)\n",
            " |-- verified_purchase: string (nullable = true)\n",
            "\n"
          ],
          "name": "stdout"
        }
      ]
    },
    {
      "cell_type": "code",
      "metadata": {
        "colab": {
          "base_uri": "https://localhost:8080/"
        },
        "id": "UN2JdTjM4vQK",
        "outputId": "d3f73d94-d7eb-4419-f253-0c7f11f0f788"
      },
      "source": [
        "vine_df_20 = vine_df_20.withColumn('percent', (vine_df_20['helpful_votes']  / vine_df_20['total_votes']))\n",
        "vine_df_20.show()"
      ],
      "execution_count": 22,
      "outputs": [
        {
          "output_type": "stream",
          "text": [
            "+--------------+-----------+-------------+-----------+----+-----------------+-------------------+\n",
            "|     review_id|star_rating|helpful_votes|total_votes|vine|verified_purchase|            percent|\n",
            "+--------------+-----------+-------------+-----------+----+-----------------+-------------------+\n",
            "|R1T4FVSABO0IDP|          5|            8|         31|   N|                Y|0.25806451612903225|\n",
            "|R397VXR1GAK6C9|          5|           21|         21|   N|                Y|                1.0|\n",
            "|R2H6KB9RHS17GA|          3|           59|         69|   N|                Y|  0.855072463768116|\n",
            "|R3HAK0MUN9F5IT|          1|            6|         28|   N|                Y|0.21428571428571427|\n",
            "|R29UTZTOPUVRSV|          5|           21|         21|   N|                Y|                1.0|\n",
            "| RY9FLUD8VG6XD|          4|           27|         32|   N|                Y|            0.84375|\n",
            "|R3Q5NAY8BGAKHI|          5|           34|         40|   N|                Y|               0.85|\n",
            "| RRVJ7TYDEK7EO|          5|           30|         30|   N|                Y|                1.0|\n",
            "|R1JNALJ77OULPH|          4|           57|         65|   N|                Y| 0.8769230769230769|\n",
            "|R2V9VX4YQ8TQ24|          5|           33|         36|   N|                Y| 0.9166666666666666|\n",
            "|R2UCJ0GANHZVA8|          5|           21|         21|   N|                Y|                1.0|\n",
            "| R8MJZ3925MBK0|          5|           96|         98|   N|                Y| 0.9795918367346939|\n",
            "|R378YNR0LMM3DP|          2|           41|         47|   N|                Y| 0.8723404255319149|\n",
            "|R2UIEYEJPJC9EM|          5|           64|         70|   N|                N| 0.9142857142857143|\n",
            "| RX2K8ERZ5BENR|          5|           52|         56|   N|                Y| 0.9285714285714286|\n",
            "|R34VOML4JURU4E|          1|           34|         35|   N|                Y| 0.9714285714285714|\n",
            "|R21FPJN76XM6J8|          3|           43|         52|   N|                Y| 0.8269230769230769|\n",
            "|R1YMR7QJ7OR3DE|          1|           21|         22|   N|                Y| 0.9545454545454546|\n",
            "|R27LWEYQI4WQB1|          5|            8|         29|   N|                Y|0.27586206896551724|\n",
            "|R104OMNNT1A7HJ|          5|           20|         24|   N|                Y| 0.8333333333333334|\n",
            "+--------------+-----------+-------------+-----------+----+-----------------+-------------------+\n",
            "only showing top 20 rows\n",
            "\n"
          ],
          "name": "stdout"
        }
      ]
    },
    {
      "cell_type": "code",
      "metadata": {
        "colab": {
          "base_uri": "https://localhost:8080/"
        },
        "id": "uya8VLtC290K",
        "outputId": "7217208f-780c-4dc1-f4b5-cb197280236d"
      },
      "source": [
        "# Filter vine_df_20 to create a new DataFrame that shows rows where helpful_votes/total_votes >= .5\n",
        "helpful_reviews_df = vine_df_20.filter('percent >= .5')\n",
        "helpful_reviews_df.show()"
      ],
      "execution_count": 24,
      "outputs": [
        {
          "output_type": "stream",
          "text": [
            "+--------------+-----------+-------------+-----------+----+-----------------+------------------+\n",
            "|     review_id|star_rating|helpful_votes|total_votes|vine|verified_purchase|           percent|\n",
            "+--------------+-----------+-------------+-----------+----+-----------------+------------------+\n",
            "|R397VXR1GAK6C9|          5|           21|         21|   N|                Y|               1.0|\n",
            "|R2H6KB9RHS17GA|          3|           59|         69|   N|                Y| 0.855072463768116|\n",
            "|R29UTZTOPUVRSV|          5|           21|         21|   N|                Y|               1.0|\n",
            "| RY9FLUD8VG6XD|          4|           27|         32|   N|                Y|           0.84375|\n",
            "|R3Q5NAY8BGAKHI|          5|           34|         40|   N|                Y|              0.85|\n",
            "| RRVJ7TYDEK7EO|          5|           30|         30|   N|                Y|               1.0|\n",
            "|R1JNALJ77OULPH|          4|           57|         65|   N|                Y|0.8769230769230769|\n",
            "|R2V9VX4YQ8TQ24|          5|           33|         36|   N|                Y|0.9166666666666666|\n",
            "|R2UCJ0GANHZVA8|          5|           21|         21|   N|                Y|               1.0|\n",
            "| R8MJZ3925MBK0|          5|           96|         98|   N|                Y|0.9795918367346939|\n",
            "|R378YNR0LMM3DP|          2|           41|         47|   N|                Y|0.8723404255319149|\n",
            "|R2UIEYEJPJC9EM|          5|           64|         70|   N|                N|0.9142857142857143|\n",
            "| RX2K8ERZ5BENR|          5|           52|         56|   N|                Y|0.9285714285714286|\n",
            "|R34VOML4JURU4E|          1|           34|         35|   N|                Y|0.9714285714285714|\n",
            "|R21FPJN76XM6J8|          3|           43|         52|   N|                Y|0.8269230769230769|\n",
            "|R1YMR7QJ7OR3DE|          1|           21|         22|   N|                Y|0.9545454545454546|\n",
            "|R104OMNNT1A7HJ|          5|           20|         24|   N|                Y|0.8333333333333334|\n",
            "|R3UDL3YQDQ9O69|          5|           22|         23|   N|                Y|0.9565217391304348|\n",
            "| RZIKUWBLDQZWP|          2|           27|         29|   N|                Y|0.9310344827586207|\n",
            "| R8X31B3X14N2V|          1|           28|         45|   N|                Y|0.6222222222222222|\n",
            "+--------------+-----------+-------------+-----------+----+-----------------+------------------+\n",
            "only showing top 20 rows\n",
            "\n"
          ],
          "name": "stdout"
        }
      ]
    },
    {
      "cell_type": "code",
      "metadata": {
        "colab": {
          "base_uri": "https://localhost:8080/"
        },
        "id": "AOW_N4oe-OKs",
        "outputId": "2cb360df-da08-41f4-cf10-b04d92dbf66e"
      },
      "source": [
        "# Create a new dataframe from helpful_reviews_df of only vine reviews\n",
        "vine_reviews_df = helpful_reviews_df.filter(helpful_reviews_df['vine'] == 'Y')\n",
        "vine_reviews_df.show()"
      ],
      "execution_count": 27,
      "outputs": [
        {
          "output_type": "stream",
          "text": [
            "+--------------+-----------+-------------+-----------+----+-----------------+------------------+\n",
            "|     review_id|star_rating|helpful_votes|total_votes|vine|verified_purchase|           percent|\n",
            "+--------------+-----------+-------------+-----------+----+-----------------+------------------+\n",
            "| REKN4PLM5174P|          4|          219|        225|   Y|                N|0.9733333333333334|\n",
            "| RQOG8IIJX7CKB|          4|           21|         27|   Y|                N|0.7777777777777778|\n",
            "|R33EJ9PSZR13CM|          4|           26|         30|   Y|                N|0.8666666666666667|\n",
            "|R37GSXLA11XF8N|          5|           30|         34|   Y|                N|0.8823529411764706|\n",
            "|R2YE4F9ESKFWEK|          3|           20|         23|   Y|                N|0.8695652173913043|\n",
            "|R1E4L7HHB8TBP9|          4|           80|         92|   Y|                N|0.8695652173913043|\n",
            "|R2C2WXDXMZL005|          2|           20|         25|   Y|                N|               0.8|\n",
            "|R1PPY4U0K03KTE|          5|           31|         38|   Y|                N|0.8157894736842105|\n",
            "|R12SMR88Q45MWQ|          3|           23|         24|   Y|                N|0.9583333333333334|\n",
            "|R188VWFDBDWRR0|          4|           35|         38|   Y|                N|0.9210526315789473|\n",
            "| RUE8J5M74KJUP|          1|           37|         42|   Y|                N|0.8809523809523809|\n",
            "|R3IMZIN7Y64IP1|          1|           19|         23|   Y|                N|0.8260869565217391|\n",
            "|R17RGR2YSZ5UDG|          4|           19|         24|   Y|                N|0.7916666666666666|\n",
            "|R2SBNSIBLPIIG6|          4|           47|         53|   Y|                N|0.8867924528301887|\n",
            "|R197MLUGNBO8SK|          5|           24|         29|   Y|                N|0.8275862068965517|\n",
            "|R21QBM40D91D00|          3|           18|         25|   Y|                N|              0.72|\n",
            "|R1Z5U87WQ4LVJG|          4|           89|        101|   Y|                N|0.8811881188118812|\n",
            "| RAT9CVRLRHXQZ|          5|           50|         54|   Y|                N|0.9259259259259259|\n",
            "|R2IZYYX6U9MKVI|          4|           23|         25|   Y|                N|              0.92|\n",
            "|R2PRVPQ6RQM6ES|          5|          152|        171|   Y|                N|0.8888888888888888|\n",
            "+--------------+-----------+-------------+-----------+----+-----------------+------------------+\n",
            "only showing top 20 rows\n",
            "\n"
          ],
          "name": "stdout"
        }
      ]
    },
    {
      "cell_type": "code",
      "metadata": {
        "colab": {
          "base_uri": "https://localhost:8080/"
        },
        "id": "vl_7a81i-vbV",
        "outputId": "1d931503-55c0-4904-990e-e7aa4621cb6f"
      },
      "source": [
        "# Creat a dataframe from helpful_reviews_df of only non-vine reviews\n",
        "nonvine_reviews_df = helpful_reviews_df.filter(helpful_reviews_df['vine'] == 'N')\n",
        "nonvine_reviews_df.show()"
      ],
      "execution_count": 28,
      "outputs": [
        {
          "output_type": "stream",
          "text": [
            "+--------------+-----------+-------------+-----------+----+-----------------+------------------+\n",
            "|     review_id|star_rating|helpful_votes|total_votes|vine|verified_purchase|           percent|\n",
            "+--------------+-----------+-------------+-----------+----+-----------------+------------------+\n",
            "|R397VXR1GAK6C9|          5|           21|         21|   N|                Y|               1.0|\n",
            "|R2H6KB9RHS17GA|          3|           59|         69|   N|                Y| 0.855072463768116|\n",
            "|R29UTZTOPUVRSV|          5|           21|         21|   N|                Y|               1.0|\n",
            "| RY9FLUD8VG6XD|          4|           27|         32|   N|                Y|           0.84375|\n",
            "|R3Q5NAY8BGAKHI|          5|           34|         40|   N|                Y|              0.85|\n",
            "| RRVJ7TYDEK7EO|          5|           30|         30|   N|                Y|               1.0|\n",
            "|R1JNALJ77OULPH|          4|           57|         65|   N|                Y|0.8769230769230769|\n",
            "|R2V9VX4YQ8TQ24|          5|           33|         36|   N|                Y|0.9166666666666666|\n",
            "|R2UCJ0GANHZVA8|          5|           21|         21|   N|                Y|               1.0|\n",
            "| R8MJZ3925MBK0|          5|           96|         98|   N|                Y|0.9795918367346939|\n",
            "|R378YNR0LMM3DP|          2|           41|         47|   N|                Y|0.8723404255319149|\n",
            "|R2UIEYEJPJC9EM|          5|           64|         70|   N|                N|0.9142857142857143|\n",
            "| RX2K8ERZ5BENR|          5|           52|         56|   N|                Y|0.9285714285714286|\n",
            "|R34VOML4JURU4E|          1|           34|         35|   N|                Y|0.9714285714285714|\n",
            "|R21FPJN76XM6J8|          3|           43|         52|   N|                Y|0.8269230769230769|\n",
            "|R1YMR7QJ7OR3DE|          1|           21|         22|   N|                Y|0.9545454545454546|\n",
            "|R104OMNNT1A7HJ|          5|           20|         24|   N|                Y|0.8333333333333334|\n",
            "|R3UDL3YQDQ9O69|          5|           22|         23|   N|                Y|0.9565217391304348|\n",
            "| RZIKUWBLDQZWP|          2|           27|         29|   N|                Y|0.9310344827586207|\n",
            "| R8X31B3X14N2V|          1|           28|         45|   N|                Y|0.6222222222222222|\n",
            "+--------------+-----------+-------------+-----------+----+-----------------+------------------+\n",
            "only showing top 20 rows\n",
            "\n"
          ],
          "name": "stdout"
        }
      ]
    },
    {
      "cell_type": "code",
      "metadata": {
        "colab": {
          "base_uri": "https://localhost:8080/"
        },
        "id": "NCL09BTm_gHN",
        "outputId": "c437e02f-df9b-45df-f1ad-a314f02b26b2"
      },
      "source": [
        "# Determine the total number of reviews, number of 5 star reviews and percentage of 5 star reviews for vine reviews\n",
        "total_vine_reviews = vine_reviews_df.count()\n",
        "star5_vine = vine_reviews_df.filter('star_rating = 5').count()\n",
        "star5_percent = star5_vine / total_vine_reviews\n",
        "print(total_vine_reviews, star5_vine, star5_percent)"
      ],
      "execution_count": 37,
      "outputs": [
        {
          "output_type": "stream",
          "text": [
            "76 30 0.39473684210526316\n"
          ],
          "name": "stdout"
        }
      ]
    },
    {
      "cell_type": "code",
      "metadata": {
        "colab": {
          "base_uri": "https://localhost:8080/"
        },
        "id": "puL_OJnMAFG1",
        "outputId": "a638d129-bf95-430d-c694-931d9eef05d6"
      },
      "source": [
        "# Determine the total number of reviews, number of 5 star reviews and percentage of 5 star reviews for non-vine reviews\n",
        "total_nonvine = nonvine_reviews_df.count()\n",
        "star5_nonvine = nonvine_reviews_df.filter('star_rating = 5').count()\n",
        "star5_nonvine_percent = star5_nonvine / total_nonvine\n",
        "print(total_nonvine, star5_nonvine, star5_nonvine_percent)"
      ],
      "execution_count": 38,
      "outputs": [
        {
          "output_type": "stream",
          "text": [
            "23015 11914 0.5176623940908104\n"
          ],
          "name": "stdout"
        }
      ]
    },
    {
      "cell_type": "code",
      "metadata": {
        "id": "AFeis6LiCc9c"
      },
      "source": [
        ""
      ],
      "execution_count": null,
      "outputs": []
    }
  ]
}